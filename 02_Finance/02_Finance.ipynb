{
 "cells": [
  {
   "cell_type": "code",
   "execution_count": 3,
   "metadata": {},
   "outputs": [],
   "source": [
    "import pandas as pd"
   ]
  },
  {
   "cell_type": "code",
   "execution_count": 6,
   "metadata": {},
   "outputs": [
    {
     "data": {
      "text/html": [
       "<div>\n",
       "<style scoped>\n",
       "    .dataframe tbody tr th:only-of-type {\n",
       "        vertical-align: middle;\n",
       "    }\n",
       "\n",
       "    .dataframe tbody tr th {\n",
       "        vertical-align: top;\n",
       "    }\n",
       "\n",
       "    .dataframe thead th {\n",
       "        text-align: right;\n",
       "    }\n",
       "</style>\n",
       "<table border=\"1\" class=\"dataframe\">\n",
       "  <thead>\n",
       "    <tr style=\"text-align: right;\">\n",
       "      <th></th>\n",
       "      <th>Date</th>\n",
       "      <th>Open</th>\n",
       "      <th>High</th>\n",
       "      <th>Low</th>\n",
       "      <th>Close</th>\n",
       "      <th>Adj Close</th>\n",
       "      <th>Volume</th>\n",
       "    </tr>\n",
       "  </thead>\n",
       "  <tbody>\n",
       "    <tr>\n",
       "      <td>0</td>\n",
       "      <td>2014-09-11</td>\n",
       "      <td>100.410004</td>\n",
       "      <td>101.440002</td>\n",
       "      <td>99.620003</td>\n",
       "      <td>101.430000</td>\n",
       "      <td>93.071877</td>\n",
       "      <td>62353100</td>\n",
       "    </tr>\n",
       "    <tr>\n",
       "      <td>1</td>\n",
       "      <td>2014-09-12</td>\n",
       "      <td>101.209999</td>\n",
       "      <td>102.190002</td>\n",
       "      <td>101.080002</td>\n",
       "      <td>101.660004</td>\n",
       "      <td>93.282913</td>\n",
       "      <td>62626100</td>\n",
       "    </tr>\n",
       "    <tr>\n",
       "      <td>2</td>\n",
       "      <td>2014-09-15</td>\n",
       "      <td>102.809998</td>\n",
       "      <td>103.050003</td>\n",
       "      <td>101.440002</td>\n",
       "      <td>101.629997</td>\n",
       "      <td>93.255379</td>\n",
       "      <td>61316500</td>\n",
       "    </tr>\n",
       "    <tr>\n",
       "      <td>3</td>\n",
       "      <td>2014-09-16</td>\n",
       "      <td>99.800003</td>\n",
       "      <td>101.260002</td>\n",
       "      <td>98.889999</td>\n",
       "      <td>100.860001</td>\n",
       "      <td>92.548836</td>\n",
       "      <td>66908100</td>\n",
       "    </tr>\n",
       "    <tr>\n",
       "      <td>4</td>\n",
       "      <td>2014-09-17</td>\n",
       "      <td>101.269997</td>\n",
       "      <td>101.800003</td>\n",
       "      <td>100.589996</td>\n",
       "      <td>101.580002</td>\n",
       "      <td>93.209496</td>\n",
       "      <td>60926500</td>\n",
       "    </tr>\n",
       "  </tbody>\n",
       "</table>\n",
       "</div>"
      ],
      "text/plain": [
       "         Date        Open        High         Low       Close  Adj Close  \\\n",
       "0  2014-09-11  100.410004  101.440002   99.620003  101.430000  93.071877   \n",
       "1  2014-09-12  101.209999  102.190002  101.080002  101.660004  93.282913   \n",
       "2  2014-09-15  102.809998  103.050003  101.440002  101.629997  93.255379   \n",
       "3  2014-09-16   99.800003  101.260002   98.889999  100.860001  92.548836   \n",
       "4  2014-09-17  101.269997  101.800003  100.589996  101.580002  93.209496   \n",
       "\n",
       "     Volume  \n",
       "0  62353100  \n",
       "1  62626100  \n",
       "2  61316500  \n",
       "3  66908100  \n",
       "4  60926500  "
      ]
     },
     "execution_count": 6,
     "metadata": {},
     "output_type": "execute_result"
    }
   ],
   "source": [
    "df = pd.read_csv('data/AAPL.csv')\n",
    "df.head()"
   ]
  },
  {
   "cell_type": "code",
   "execution_count": 8,
   "metadata": {},
   "outputs": [
    {
     "data": {
      "text/plain": [
       "Date          object\n",
       "Open         float64\n",
       "High         float64\n",
       "Low          float64\n",
       "Close        float64\n",
       "Adj Close    float64\n",
       "Volume         int64\n",
       "dtype: object"
      ]
     },
     "execution_count": 8,
     "metadata": {},
     "output_type": "execute_result"
    }
   ],
   "source": [
    "df.dtypes"
   ]
  },
  {
   "cell_type": "code",
   "execution_count": 2,
   "metadata": {},
   "outputs": [
    {
     "name": "stdout",
     "output_type": "stream",
     "text": [
      "AAPL.csv\r\n"
     ]
    }
   ],
   "source": [
    "!ls data"
   ]
  }
 ],
 "metadata": {
  "kernelspec": {
   "display_name": "Python [conda env:02_Finance] *",
   "language": "python",
   "name": "conda-env-02_Finance-py"
  },
  "language_info": {
   "codemirror_mode": {
    "name": "ipython",
    "version": 3
   },
   "file_extension": ".py",
   "mimetype": "text/x-python",
   "name": "python",
   "nbconvert_exporter": "python",
   "pygments_lexer": "ipython3",
   "version": "3.7.4"
  }
 },
 "nbformat": 4,
 "nbformat_minor": 2
}
